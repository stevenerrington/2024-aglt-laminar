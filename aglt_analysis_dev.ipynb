{
 "cells": [
  {
   "cell_type": "markdown",
   "metadata": {},
   "source": [
    "# [DEV SCRIPT] Feedforward and feedback interactions for sequence learning in the macaque frontotemporal network"
   ]
  },
  {
   "cell_type": "code",
   "execution_count": null,
   "metadata": {},
   "outputs": [],
   "source": [
    "### Import toolboxes and dependencies -----------------------------------------------------#\n",
    "import sys\n",
    "import os\n",
    "import pandas as pd\n",
    "import numpy as np\n",
    "import matplotlib.pyplot as plt\n",
    "import scipy\n",
    "import h5py\n",
    "\n",
    "#------------------------------------------------------------------------------------------#\n",
    "\n",
    "### Add root & subdirectories to path -----------------------------------------------------#\n",
    "def init_path(root_dir):\n",
    "    \"\"\"\n",
    "    Recursively add a directory and all its subdirectories to the system path.\n",
    "    \"\"\"\n",
    "    for dirpath, dirnames, filenames in os.walk(root_dir):\n",
    "        if dirpath not in sys.path:\n",
    "            sys.path.append(dirpath)\n",
    "                  \n",
    "          \n",
    "if sys.platform == 'win32':  \n",
    "    init_path(r'C:\\KIKUCHI-LOCAL\\script\\2024-aglt-laminar')\n",
    "elif sys.platform == 'darwin':\n",
    "    init_path(r'/Users/stevenerrington/Desktop/Projects/2024-aglt-laminar')\n",
    "    \n",
    "    \n",
    "#------------------------------------------------------------------------------------------#\n",
    "\n",
    "### Import custom functions ---------------------- ----------------------------------------#\n",
    "from setup_workspace import *\n",
    "from matlab_functions import *\n",
    "from spike_functions import *\n",
    "#------------------------------------------------------------------------------------------#\n",
    "\n",
    "### Import experiment logs and define data directories ------------------------------------#\n",
    "dirs = set_directories()                                    # Get directories\n",
    "ephysLog, stimulusLog, spike_log = import_exp_map()         # Get experimental logs\n",
    "ephysLog = clean_exp_map(ephysLog)                          # Clean experiment log\n",
    "spike_log = clean_spike_map(spike_log)                      # Clean spike log\n",
    "#------------------------------------------------------------------------------------------#\n"
   ]
  },
  {
   "cell_type": "code",
   "execution_count": null,
   "metadata": {},
   "outputs": [],
   "source": [
    "session_name = ephysLog['session'][20]\n",
    "full_path = os.path.join(r'/Users/stevenerrington/Desktop/AGLt_py', session_name + '-events.csv')\n",
    "event_table = pd.read_csv(full_path)"
   ]
  },
  {
   "cell_type": "code",
   "execution_count": null,
   "metadata": {},
   "outputs": [],
   "source": [
    "session_spikes = spike_log['unitDSP'][spike_log['session'] == session_name]"
   ]
  },
  {
   "cell_type": "code",
   "execution_count": null,
   "metadata": {},
   "outputs": [],
   "source": [
    "for spike_dsp in session_spikes:\n",
    "    spike_times = np.loadtxt(os.path.join(r'/Users/stevenerrington/Desktop/AGLt_py', session_name + '-' + spike_dsp + '-spk.txt'), delimiter=',')\n",
    "    spike_times = spike_times.astype(int)\n",
    "\n",
    "    sdf = spk_convolve(spike_times, np.max(spike_times)+10000, 'Gauss')\n",
    "\n",
    "    align_times = event_table['stimulusOnset_ms']\n",
    "    align_times = align_times.to_numpy()\n",
    "    align_times = align_times.astype(int)\n",
    "    time_win = np.arange(-1000, 6000);\n",
    "\n",
    "    sdf_aligned, raster_aligned = spk_align(sdf, spike_times, align_times, time_win)\n",
    "\n",
    "    mean_data = np.nanmean(sdf_aligned, axis=0)\n",
    "    \n",
    "    # Smoothing using a moving average with a window size of 3\n",
    "    window_size = 200\n",
    "    window = np.ones(window_size) / window_size\n",
    "    mean_data_smoothed = np.convolve(mean_data, window, mode='same')\n",
    "        \n",
    "    # Plot the mean\n",
    "    plt.figure(figsize=(10, 6))\n",
    "    plt.plot(time_win, mean_data, linestyle='-', color='k')\n",
    "    plt.xlabel('Time from stimulus onset (ms)')\n",
    "    plt.ylabel('Firing rate')\n",
    "    plt.show()"
   ]
  },
  {
   "cell_type": "code",
   "execution_count": null,
   "metadata": {},
   "outputs": [],
   "source": [
    "\n",
    "spike_dsp = session_spikes.values[1]\n",
    "\n",
    "spike_times = np.loadtxt(os.path.join(r'/Users/stevenerrington/Desktop/AGLt_py', session_name + '-' + spike_dsp + '-spk.txt'), delimiter=',')\n",
    "spike_times = spike_times.astype(int)\n",
    "\n",
    "sdf = spk_convolve(spike_times, np.max(spike_times)+10000, 'Gauss')\n",
    "\n",
    "align_times = event_table['stimulusOnset_ms']\n",
    "align_times = align_times.to_numpy()\n",
    "align_times = align_times.astype(int)\n",
    "time_win = np.arange(-1000, 6000);\n",
    "\n",
    "sdf_aligned, raster_aligned = spk_align(sdf, spike_times, align_times, time_win)\n",
    "\n",
    "mean_data = np.nanmean(sdf_aligned, axis=0)\n",
    "# Plot the mean\n",
    "plt.figure(figsize=(10, 6))\n",
    "plt.plot(time_win, mean_data, linestyle='-', color='k')\n",
    "plt.xlabel('Time from stimulus onset (ms)')\n",
    "plt.ylabel('Firing rate')\n",
    "plt.show()\n"
   ]
  },
  {
   "cell_type": "code",
   "execution_count": null,
   "metadata": {},
   "outputs": [],
   "source": []
  }
 ],
 "metadata": {
  "kernelspec": {
   "display_name": "Python 3",
   "language": "python",
   "name": "python3"
  },
  "language_info": {
   "codemirror_mode": {
    "name": "ipython",
    "version": 3
   },
   "file_extension": ".py",
   "mimetype": "text/x-python",
   "name": "python",
   "nbconvert_exporter": "python",
   "pygments_lexer": "ipython3",
   "version": "3.12.4"
  }
 },
 "nbformat": 4,
 "nbformat_minor": 2
}
