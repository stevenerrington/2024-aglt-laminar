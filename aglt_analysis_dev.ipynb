{
 "cells": [
  {
   "cell_type": "markdown",
   "metadata": {},
   "source": [
    "# [DEV SCRIPT] Feedforward and feedback interactions for sequence learning in the macaque frontotemporal network"
   ]
  },
  {
   "cell_type": "code",
   "execution_count": 4,
   "metadata": {},
   "outputs": [
    {
     "name": "stdout",
     "output_type": "stream",
     "text": [
      "darwin\n"
     ]
    }
   ],
   "source": [
    "import sys\n",
    "print(sys.platform)"
   ]
  },
  {
   "cell_type": "code",
   "execution_count": null,
   "metadata": {},
   "outputs": [],
   "source": [
    "session_name = ephysLog['session'][1]\n",
    "full_path = os.path.join(r'C:\\KIKUCHI-LOCAL\\data\\ephys\\py_conv\\event_table', session_name + '-events.csv')\n",
    "event_table = pd.read_csv(full_path)\n",
    "\n",
    "spike_dsp = 'DSP01a'\n",
    "spike_times = np.loadtxt(os.path.join(r'C:\\KIKUCHI-LOCAL\\data\\ephys\\py_conv\\spike_times', session_name + '-' + spike_dsp + '-spk.txt'), delimiter=',')\n",
    "spike_times = spike_times.astype(int)\n",
    "\n",
    "sdf = spk_convolve(spike_times, np.max(spike_times)+10000, 'Gauss')\n",
    "\n",
    "align_times = event_table['stimulusOnset_ms']\n",
    "align_times = align_times.to_numpy()\n",
    "align_times = align_times.astype(int)\n",
    "time_win = np.arange(-1000, 6000);\n",
    "\n",
    "sdf_aligned, raster_aligned = spk_align(sdf, spike_times, align_times, time_win)\n",
    "\n",
    "mean_data = np.nanmean(sdf_aligned, axis=0)\n",
    "# Plot the mean\n",
    "plt.figure(figsize=(10, 6))\n",
    "plt.plot(time_win, mean_data, linestyle='-', color='k')\n",
    "plt.xlabel('Time from stimulus onset (ms)')\n",
    "plt.ylabel('Firing rate')\n",
    "plt.show()"
   ]
  }
 ],
 "metadata": {
  "kernelspec": {
   "display_name": "Python 3",
   "language": "python",
   "name": "python3"
  },
  "language_info": {
   "codemirror_mode": {
    "name": "ipython",
    "version": 3
   },
   "file_extension": ".py",
   "mimetype": "text/x-python",
   "name": "python",
   "nbconvert_exporter": "python",
   "pygments_lexer": "ipython3",
   "version": "3.9.6"
  }
 },
 "nbformat": 4,
 "nbformat_minor": 2
}
