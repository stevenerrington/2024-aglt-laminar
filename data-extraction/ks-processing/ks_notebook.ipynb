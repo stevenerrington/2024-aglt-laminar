{
 "cells": [
  {
   "cell_type": "code",
   "execution_count": null,
   "metadata": {},
   "outputs": [],
   "source": [
    "# LOAD RELEVANT LIBRARIES\n",
    "import numpy as np\n",
    "from kilosort import run_kilosort\n",
    "from pathlib import Path"
   ]
  },
  {
   "cell_type": "code",
   "execution_count": null,
   "metadata": {},
   "outputs": [],
   "source": [
    "# DEFINE DIRECTORIES AND DATA STRUCTURES\n",
    "filename = 'troy-agl_t-2021-06-25'\n",
    "\n",
    "# Get the directory of the original SAVE_PATH\n",
    "bin_dir = Path('C:\\\\KIKUCHI-LOCAL\\\\data\\\\ephys\\\\ks\\\\troy-agl_t-2021-06-25')\n",
    "\n",
    "# Create a new Path object with the filename and .bin extension\n",
    "bin_file = bin_dir / f\"{filename}.dat\"\n"
   ]
  },
  {
   "cell_type": "code",
   "execution_count": null,
   "metadata": {},
   "outputs": [],
   "source": [
    "# DEFINE SESSION INFORMATION\n",
    "sampling_frequency = 32000\n",
    "electrode_spacing = 200\n",
    "\n",
    "# Load probe file based on electrode spacing\n",
    "session_probe = 'plexon_200um_32ch.prb';"
   ]
  },
  {
   "cell_type": "code",
   "execution_count": null,
   "metadata": {},
   "outputs": [],
   "source": [
    "# Define Kilosort parameters\n",
    "settings = {'data_dir': bin_dir, 'n_chan_bin': 32, 'fs': sampling_frequency, 'batch_size': 512000, 'nblocks': 1,\n",
    "            'Th_universal': 9, 'Th_learned': 7, 'tmin': 0, 'tmax': np.inf, 'nt0min': None,\n",
    "            'dmin': None, 'min_template_size': 10, 'template_sizes': 5, 'nearest_chans': 5,\n",
    "            'nearest_templates': 1, 'n_templates': 6, 'n_pcs': 6, 'Th_single_ch': 3}\n"
   ]
  },
  {
   "cell_type": "code",
   "execution_count": null,
   "metadata": {},
   "outputs": [],
   "source": [
    "# RUN KILOSORT\n",
    "# NOTE: 'n_chan_bin' is a required setting, and should reflect the total number\n",
    "#       of channels in the binary file. For information on other available\n",
    "#       settings, see `kilosort.run_kilosort.default_settings`.\n",
    "\n",
    "run_kilosort(settings=settings, probe_name=session_probe)"
   ]
  }
 ],
 "metadata": {
  "kernelspec": {
   "display_name": "kilosort",
   "language": "python",
   "name": "python3"
  },
  "language_info": {
   "codemirror_mode": {
    "name": "ipython",
    "version": 3
   },
   "file_extension": ".py",
   "mimetype": "text/x-python",
   "name": "python",
   "nbconvert_exporter": "python",
   "pygments_lexer": "ipython3",
   "version": "3.9.19"
  }
 },
 "nbformat": 4,
 "nbformat_minor": 2
}
