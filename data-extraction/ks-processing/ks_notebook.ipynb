{
 "cells": [
  {
   "cell_type": "markdown",
   "metadata": {},
   "source": [
    "### Load libraries and relevant modules into py env"
   ]
  },
  {
   "cell_type": "code",
   "execution_count": 1,
   "metadata": {},
   "outputs": [],
   "source": [
    "# Import and load relevant libraries\n",
    "import numpy as np\n",
    "from kilosort import run_kilosort\n",
    "from pathlib import Path\n",
    "import pandas as pd\n",
    "import os\n",
    "import glob\n",
    "from IPython.display import clear_output"
   ]
  },
  {
   "cell_type": "markdown",
   "metadata": {},
   "source": [
    "### Define Kilosort pipeline"
   ]
  },
  {
   "cell_type": "code",
   "execution_count": 3,
   "metadata": {},
   "outputs": [],
   "source": [
    "def kikuchi_ks_run(filename):\n",
    "    # Setup directories and file names\n",
    "    # Directory for .bin files\n",
    "    bin_main = Path('C:\\\\KIKUCHI-LOCAL\\\\data\\\\ephys\\\\bin')\n",
    "    full_bin_path = bin_main / f\"{filename}.dat\"\n",
    "\n",
    "    # Directory for kilosort output\n",
    "    ks_main = Path('C:\\\\KIKUCHI-LOCAL\\\\data\\\\ephys\\\\ks')\n",
    "    full_ks_path = ks_main /f\"{filename}\"\n",
    "\n",
    "    # Load in ephys log\n",
    "    gsheetid = \"1_kpK6t0yXWO5wVneRrX4kspHJXAnouSg\"\n",
    "    sheet_name = \"agl_t\"\n",
    "    gsheet_url = f\"https://docs.google.com/spreadsheets/d/{gsheetid}/gviz/tq?tqx=out:csv&sheet={sheet_name}\"\n",
    "    ephysLog = pd.read_csv(gsheet_url)\n",
    "\n",
    "    # Find session log index\n",
    "    session_idx = ephysLog[ephysLog['session'] == filename].index[0]\n",
    "\n",
    "    # Define session specific information\\\n",
    "    # Recording system (for sampling frequency - fs)\n",
    "    system = ephysLog.at[session_idx, 'sys']\n",
    "    if system == 'plex': fs = 32000\n",
    "    else: fs = 24414.0625\n",
    "\n",
    "    # Electrode configuration\n",
    "    monkey = ephysLog.at[session_idx, 'monkey']\n",
    "    if system == 'troy': probe_config = 'C:\\\\KIKUCHI-LOCAL\\\\script\\\\2024-aglt-sequence\\\\data-extraction\\\\ks-processing\\\\probes\\\\Linear16x2_150_150.mat';\n",
    "    else: probe_config = 'C:\\\\KIKUCHI-LOCAL\\\\script\\\\2024-aglt-sequence\\\\data-extraction\\\\ks-processing\\\\probes\\\\Linear16x2_150_200.mat';\n",
    "\n",
    "    # Define Kilosort parameters\n",
    "    settings = {'filename': full_bin_path, 'n_chan_bin': 32, 'fs': fs, 'batch_size': 512000, 'nblocks': 0,\n",
    "                'Th_universal': 9, 'Th_learned': 7, 'tmin': 0, 'tmax': np.inf, 'nt0min': None,\n",
    "                'dmin': None, 'min_template_size': 10, 'template_sizes': 5, 'nearest_chans': 3,\n",
    "                'nearest_templates': 3, 'n_templates': 6, 'n_pcs': 6, 'Th_single_ch': 4}\n",
    "\n",
    "    # Run Kilosort detection and sorting algorithms\n",
    "    run_kilosort(settings = settings, probe_name = probe_config, results_dir = full_ks_path);"
   ]
  },
  {
   "cell_type": "markdown",
   "metadata": {},
   "source": [
    "### Define functions to find binary files and determine analysis state"
   ]
  },
  {
   "cell_type": "code",
   "execution_count": 4,
   "metadata": {},
   "outputs": [],
   "source": [
    "# Function to find all .dat files in the given folder\n",
    "def find_dat_files(folder_path):\n",
    "    # Create a pattern for .dat files\n",
    "    pattern = os.path.join(folder_path, '*.dat')\n",
    "    \n",
    "    # Use glob to find all matching files\n",
    "    dat_files = glob.glob(pattern)\n",
    "    \n",
    "    return dat_files\n",
    "\n",
    "\n",
    "# Function to check if a file exists in the given directory\n",
    "def file_exists(directory, filename):\n",
    "    # Create the full path to the file\n",
    "    file_path = os.path.join(directory, filename)\n",
    "    \n",
    "    # Check if the file exists\n",
    "    return os.path.isfile(file_path)"
   ]
  },
  {
   "cell_type": "markdown",
   "metadata": {},
   "source": [
    "### Loop extraction algorithm"
   ]
  },
  {
   "cell_type": "code",
   "execution_count": 11,
   "metadata": {},
   "outputs": [
    {
     "name": "stdout",
     "output_type": "stream",
     "text": [
      "C:\\KIKUCHI-LOCAL\\data\\ephys\\bin\\walt-agl_t-2020-11-30.dat\n"
     ]
    }
   ],
   "source": [
    "# Filename for given session\n",
    "dat_files = find_dat_files('C:\\\\KIKUCHI-LOCAL\\\\data\\\\ephys\\\\bin')\n",
    "\n",
    "for file_i in dat_files:\n",
    "    clear_output(wait=True)\n",
    "    print(file_i)\n",
    "\n",
    "    # Get the base name (filename with extension)\n",
    "    base_name = os.path.basename(file_i)\n",
    "    filename = os.path.splitext(base_name)[0]\n",
    "\n",
    "    # Determine if KS output files exist (has KS been run?)\n",
    "    ks_out_file = 'C:\\\\KIKUCHI-LOCAL\\\\data\\\\ephys\\\\ks\\\\' + filename\n",
    "    ks_flag = file_exists(ks_out_file, 'params.py')\n",
    "\n",
    "    if ks_flag == 0: kikuchi_ks_run(filename)\n",
    "\n"
   ]
  }
 ],
 "metadata": {
  "kernelspec": {
   "display_name": "kilosort",
   "language": "python",
   "name": "python3"
  },
  "language_info": {
   "codemirror_mode": {
    "name": "ipython",
    "version": 3
   },
   "file_extension": ".py",
   "mimetype": "text/x-python",
   "name": "python",
   "nbconvert_exporter": "python",
   "pygments_lexer": "ipython3",
   "version": "3.9.19"
  }
 },
 "nbformat": 4,
 "nbformat_minor": 2
}
