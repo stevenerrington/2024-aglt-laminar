{
 "cells": [
  {
   "cell_type": "markdown",
   "metadata": {},
   "source": [
    "# Feedforward and feedback interactions for sequence learning in the macaque frontotemporal network\n",
    "\n"
   ]
  },
  {
   "cell_type": "markdown",
   "metadata": {},
   "source": [
    "## Initialise and setup workspace"
   ]
  },
  {
   "cell_type": "code",
   "execution_count": 4,
   "metadata": {},
   "outputs": [],
   "source": [
    "### Import toolboxes and dependencies -----------------------------------------------------#\n",
    "import sys\n",
    "import os\n",
    "import pandas as pd\n",
    "import numpy as np\n",
    "import matplotlib.pyplot as plt\n",
    "#------------------------------------------------------------------------------------------#\n",
    "\n",
    "### Add root & subdirectories to path -----------------------------------------------------#\n",
    "def init_path(root_dir):\n",
    "    \"\"\"\n",
    "    Recursively add a directory and all its subdirectories to the system path.\n",
    "    \"\"\"\n",
    "    for dirpath, dirnames, filenames in os.walk(root_dir):\n",
    "        if dirpath not in sys.path:\n",
    "            sys.path.append(dirpath)\n",
    "            \n",
    "init_path(r'C:\\KIKUCHI-LOCAL\\script\\2024-aglt-laminar')\n",
    "#------------------------------------------------------------------------------------------#\n",
    "\n",
    "### Import custom functions ---------------------- ----------------------------------------#\n",
    "from setup_workspace import *\n",
    "from matlab_functions import *\n",
    "from spike_functions import *\n",
    "#------------------------------------------------------------------------------------------#\n",
    "\n",
    "### Import experiment logs and define data directories ------------------------------------#\n",
    "dirs = set_directories()                                    # Get directories\n",
    "ephysLog, stimulusLog, spike_log = import_exp_map()         # Get experimental logs\n",
    "ephysLog = clean_exp_map(ephysLog)                          # Clean experiment log\n",
    "spike_log = clean_spike_map(spike_log)                      # Clean spike log\n",
    "#------------------------------------------------------------------------------------------#\n"
   ]
  },
  {
   "cell_type": "markdown",
   "metadata": {},
   "source": [
    "## IN DEVELOPMENT"
   ]
  },
  {
   "cell_type": "code",
   "execution_count": null,
   "metadata": {},
   "outputs": [],
   "source": [
    "session_name = ephysLog['session'][1]\n",
    "full_path = os.path.join(r'C:\\KIKUCHI-LOCAL\\data\\ephys\\py_conv\\event_table', session_name + '-events.csv')\n",
    "event_table = pd.read_csv(full_path)"
   ]
  },
  {
   "cell_type": "code",
   "execution_count": null,
   "metadata": {},
   "outputs": [],
   "source": [
    "spike_dsp = 'DSP01a'\n",
    "spike_times = np.loadtxt(os.path.join(r'C:\\KIKUCHI-LOCAL\\data\\ephys\\py_conv\\spike_times', session_name + '-' + spike_dsp + '-spk.txt'), delimiter=',')\n",
    "spike_times = spike_times.astype(int)\n",
    "\n",
    "sdf = spk_convolve(spike_times, np.max(spike_times)+10000, 'Gauss')\n"
   ]
  },
  {
   "cell_type": "code",
   "execution_count": null,
   "metadata": {},
   "outputs": [],
   "source": [
    "align_times = event_table['stimulusOnset_ms']\n",
    "align_times = align_times.to_numpy()\n",
    "align_times = align_times.astype(int)\n",
    "time_win = np.arange(-1000, 6000);\n",
    "\n",
    "sdf_aligned, raster_aligned = spk_align(sdf, spike_times, align_times, time_win)"
   ]
  },
  {
   "cell_type": "code",
   "execution_count": null,
   "metadata": {},
   "outputs": [],
   "source": [
    "\n",
    "mean_data = np.nanmean(sdf_aligned, axis=0)\n",
    "# Plot the mean\n",
    "plt.figure(figsize=(10, 6))\n",
    "plt.plot(time_win, mean_data, linestyle='-', color='k')\n",
    "plt.xlabel('Time from stimulus onset (ms)')\n",
    "plt.ylabel('Firing rate')\n",
    "plt.show()"
   ]
  }
 ],
 "metadata": {
  "kernelspec": {
   "display_name": "aglt",
   "language": "python",
   "name": "python3"
  },
  "language_info": {
   "codemirror_mode": {
    "name": "ipython",
    "version": 3
   },
   "file_extension": ".py",
   "mimetype": "text/x-python",
   "name": "python",
   "nbconvert_exporter": "python",
   "pygments_lexer": "ipython3",
   "version": "3.12.4"
  }
 },
 "nbformat": 4,
 "nbformat_minor": 2
}
