{
 "cells": [
  {
   "cell_type": "markdown",
   "metadata": {},
   "source": [
    "# Feedforward and feedback interactions for sequence learning in the macaque frontotemporal network"
   ]
  },
  {
   "cell_type": "markdown",
   "metadata": {},
   "source": [
    "## Initialise and setup workspace"
   ]
  },
  {
   "cell_type": "code",
   "execution_count": 1,
   "metadata": {},
   "outputs": [],
   "source": [
    "### Import toolboxes and dependencies -----------------------------------------------------#\n",
    "import sys\n",
    "import os\n",
    "import pandas as pd\n",
    "import numpy as np\n",
    "import matplotlib.pyplot as plt\n",
    "#------------------------------------------------------------------------------------------#\n",
    "\n",
    "### Add root & subdirectories to path -----------------------------------------------------#\n",
    "def init_path(root_dir):\n",
    "    \"\"\"\n",
    "    Recursively add a directory and all its subdirectories to the system path.\n",
    "    \"\"\"\n",
    "    for dirpath, dirnames, filenames in os.walk(root_dir):\n",
    "        if dirpath not in sys.path:\n",
    "            sys.path.append(dirpath)\n",
    "                  \n",
    "          \n",
    "if sys.platform == 'win32':  \n",
    "    init_path(r'C:\\KIKUCHI-LOCAL\\script\\2024-aglt-laminar')\n",
    "elif sys.platform == 'darwin':\n",
    "    init_path(r'/Users/stevenerrington/Desktop/Projects/2024-aglt-laminar')\n",
    "    \n",
    "    \n",
    "#------------------------------------------------------------------------------------------#\n",
    "\n",
    "### Import custom functions ---------------------- ----------------------------------------#\n",
    "from setup_workspace import *\n",
    "from matlab_functions import *\n",
    "from spike_functions import *\n",
    "#------------------------------------------------------------------------------------------#\n",
    "\n",
    "### Import experiment logs and define data directories ------------------------------------#\n",
    "dirs = set_directories()                                    # Get directories\n",
    "ephysLog, stimulusLog, spike_log = import_exp_map()         # Get experimental logs\n",
    "ephysLog = clean_exp_map(ephysLog)                          # Clean experiment log\n",
    "spike_log = clean_spike_map(spike_log)                      # Clean spike log\n",
    "#------------------------------------------------------------------------------------------#\n"
   ]
  },
  {
   "cell_type": "markdown",
   "metadata": {},
   "source": [
    "## Functional properties of auditory and frontal cortex neurons to auditory sequences"
   ]
  },
  {
   "cell_type": "code",
   "execution_count": null,
   "metadata": {},
   "outputs": [],
   "source": [
    "## Spiking activity -------------------------------------------\n",
    "# Determine neurons that have significant onset cue modulation\n",
    "# Determine neurons that have significant sequence modulation\n",
    "# Determine neurons that have significant reward modulation\n",
    "\n",
    "# Determine neurons that have significant violation modulation\n",
    "\n",
    "# Determine neurons that have theta modulation"
   ]
  },
  {
   "cell_type": "markdown",
   "metadata": {},
   "source": [
    "## Laminar dynamics during auditory sequences"
   ]
  },
  {
   "cell_type": "code",
   "execution_count": null,
   "metadata": {},
   "outputs": [],
   "source": [
    "# Spectrolaminar profile of auditory and frontal cortex recordings \n",
    "# Current source density plots (sound onset; auditory cortex)\n",
    "# Current source density plots (reward delivery; frontal cortex)"
   ]
  },
  {
   "cell_type": "markdown",
   "metadata": {},
   "source": [
    "## Fronto-temporal interactions during auditory sequences"
   ]
  },
  {
   "cell_type": "code",
   "execution_count": null,
   "metadata": {},
   "outputs": [],
   "source": [
    "# "
   ]
  }
 ],
 "metadata": {
  "kernelspec": {
   "display_name": "aglt",
   "language": "python",
   "name": "python3"
  },
  "language_info": {
   "codemirror_mode": {
    "name": "ipython",
    "version": 3
   },
   "file_extension": ".py",
   "mimetype": "text/x-python",
   "name": "python",
   "nbconvert_exporter": "python",
   "pygments_lexer": "ipython3",
   "version": "3.11.7"
  }
 },
 "nbformat": 4,
 "nbformat_minor": 2
}
